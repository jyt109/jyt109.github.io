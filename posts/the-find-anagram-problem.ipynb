{
 "metadata": {
  "name": "",
  "signature": "sha256:6efdabcf15f618ba073cf391938202f36a4c6fd05e274057cf82443fb3f9be95"
 },
 "nbformat": 3,
 "nbformat_minor": 0,
 "worksheets": [
  {
   "cells": [
    {
     "cell_type": "markdown",
     "metadata": {},
     "source": [
      "![](doggod.png)\n"
     ]
    },
    {
     "cell_type": "markdown",
     "metadata": {},
     "source": [
      "<br>\n",
      "\n",
      "It was an **interview**, the **coding kind** ...\n",
      "\n",
      "\n",
      "It was no **[FizzBuzz](http://c2.com/cgi/wiki?FizzBuzzTest)**.\n",
      "\n",
      "<br>\n",
      "\n",
      "It was **Finding Anagrams** ...\n",
      "\n",
      "**Anagrams** are words with different arrangement of letters.\n",
      "\n",
      "E.g. **\"dog\" and \"god\"** <span style=\"color:red\">/</span> **\"star\", \"arts\" and \"rats\"**.\n",
      "\n",
      "<br>\n",
      "Let's dig into the code ...\n",
      "\n",
      "<!-- TEASER_END -->\n",
      "<br>"
     ]
    },
    {
     "cell_type": "markdown",
     "metadata": {},
     "source": [
      "<br>\n",
      "**Attempt 1:** \n",
      "\n",
      "The <span style=\"color:red\"><b>WRONG</b></span> but <span style=\"color:#CD5C5C; font-weight:bold\">INTERESTING</span> way\n",
      "\n",
      "1. **Convert letters in a word to unique numbers** using the **ord( )** function\n",
      "2. **Sum( )** the numbers in a word\n",
      "3. **Count( )** if a number appear in the list more than once. If so, anagrams we have got ourselves"
     ]
    },
    {
     "cell_type": "code",
     "collapsed": false,
     "input": [
      "def word2num(word):\n",
      "    return sum([ord(char) for char in word])"
     ],
     "language": "python",
     "metadata": {},
     "outputs": [],
     "prompt_number": 4
    },
    {
     "cell_type": "code",
     "collapsed": false,
     "input": [
      "def find_anagram_attempt1(l):\n",
      "    num_l = map(word2num, l)\n",
      "    return [l[ind] for ind, num in enumerate(num_l) if num_l.count(num) > 1]"
     ],
     "language": "python",
     "metadata": {},
     "outputs": [],
     "prompt_number": 12
    },
    {
     "cell_type": "code",
     "collapsed": false,
     "input": [
      "find_anagram_attempt1(['bat', 'rats', 'god', 'dog', 'cat', 'arts', 'star'])"
     ],
     "language": "python",
     "metadata": {},
     "outputs": [
      {
       "metadata": {},
       "output_type": "pyout",
       "prompt_number": 13,
       "text": [
        "['rats', 'god', 'dog', 'arts', 'star']"
       ]
      }
     ],
     "prompt_number": 13
    },
    {
     "cell_type": "markdown",
     "metadata": {},
     "source": [
      "**This time it worked!**\n",
      "\n",
      "But **_not always_**... See below"
     ]
    },
    {
     "cell_type": "code",
     "collapsed": false,
     "input": [
      "print \"ac gives a sum of %d\" % word2num(\"ac\")\n",
      "print \"bb gives a sum of %d\" % word2num(\"bb\")\n",
      "print \"ac and bb are not anagrams!\""
     ],
     "language": "python",
     "metadata": {},
     "outputs": [
      {
       "output_type": "stream",
       "stream": "stdout",
       "text": [
        "ac gives a sum of 196\n",
        "bb gives a sum of 196\n",
        "ac and bb are not anagrams!\n"
       ]
      }
     ],
     "prompt_number": 16
    },
    {
     "cell_type": "markdown",
     "metadata": {},
     "source": [
      "<br>\n",
      "**Attempt 2:**\n",
      "\n",
      "**THE CORRECT WAY**\n",
      "\n",
      "1. **Sort( )** letters in the words by alphbetical order\n",
      "2. **Compare sorted words** and see if they are the same\n",
      "3. **If same**, **add to list** (value) where the key is the sorted word\n",
      "4. If **length of list > 1 then anagrams**"
     ]
    },
    {
     "cell_type": "code",
     "collapsed": false,
     "input": [
      "def find_anagrams(l):\n",
      "    from collections import defaultdict\n",
      "    d = defaultdict(list)\n",
      "    anagrams = []\n",
      "    for w in l:\n",
      "        sortw = \"\".join(sorted(w))\n",
      "        d[sortw].append(w)\n",
      "    for wList in d.values():\n",
      "        if len(wList) > 1:\n",
      "            anagrams.extend(wList)\n",
      "    return anagrams  "
     ],
     "language": "python",
     "metadata": {},
     "outputs": [],
     "prompt_number": 2
    },
    {
     "cell_type": "code",
     "collapsed": false,
     "input": [
      "find_anagrams(['bat', 'rats', 'god', 'dog', 'cat', 'arts', 'star'])"
     ],
     "language": "python",
     "metadata": {},
     "outputs": [
      {
       "metadata": {},
       "output_type": "pyout",
       "prompt_number": 3,
       "text": [
        "['rats', 'arts', 'star', 'god', 'dog']"
       ]
      }
     ],
     "prompt_number": 3
    }
   ],
   "metadata": {}
  }
 ]
}