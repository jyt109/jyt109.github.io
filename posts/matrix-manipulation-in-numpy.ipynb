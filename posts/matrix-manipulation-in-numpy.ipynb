{
 "metadata": {
  "name": "",
  "signature": "sha256:bf9bb21e3c1ebbe9bbca02d1234b4d9feb7d8c240d0f179c0955c6ec2e53bc4d"
 },
 "nbformat": 3,
 "nbformat_minor": 0,
 "worksheets": [
  {
   "cells": [
    {
     "cell_type": "code",
     "collapsed": false,
     "input": [
      "import numpy as np"
     ],
     "language": "python",
     "metadata": {},
     "outputs": [],
     "prompt_number": 1
    },
    {
     "cell_type": "code",
     "collapsed": false,
     "input": [],
     "language": "python",
     "metadata": {},
     "outputs": []
    }
   ],
   "metadata": {}
  }
 ]
}