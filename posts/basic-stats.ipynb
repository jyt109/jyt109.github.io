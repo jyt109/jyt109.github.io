{
 "metadata": {
  "name": "",
  "signature": "sha256:66a4d522d49f702fd82c32cfeb3450195e2eb0a1712f8bdb73f2e354852ba600"
 },
 "nbformat": 3,
 "nbformat_minor": 0,
 "worksheets": [
  {
   "cells": [
    {
     "cell_type": "markdown",
     "metadata": {},
     "source": [
      "#Geometric Mean:\n",
      "\n",
      "When to use:\n",
      "1. Percentage of growth on a yearly basis, e.g. Year 1: 1%, Year 2: 2%, etc\n",
      "2. Comparing two metrics on different scales, number of likes and number of comments\n",
      "3. Average of ratios for different time points of a metric, e.g. Female : Male at different time points\n",
      "4. Usually used in time series data\n",
      "5. Using Arithmetic Mean for percentage growth is likely to overestimate the effect\n",
      "\n",
      "Cavet\n",
      "1. All values must be larger than zero\n",
      "\n",
      "Formula:\n",
      "\n",
      "$\\sqrt[n]{(x_1)(x_2)(x_1)\\ldots}$\n"
     ]
    },
    {
     "cell_type": "code",
     "collapsed": false,
     "input": [
      "import scipy.stats as scs\n",
      "#For means and std, axis=0 does it by row\n",
      "scs.gmean([1, 2, 3, 4], axis=0)\n"
     ],
     "language": "python",
     "metadata": {},
     "outputs": [
      {
       "metadata": {},
       "output_type": "pyout",
       "prompt_number": 3,
       "text": [
        "2.213363839400643"
       ]
      }
     ],
     "prompt_number": 3
    },
    {
     "cell_type": "markdown",
     "metadata": {},
     "source": [
      "#Outliers"
     ]
    },
    {
     "cell_type": "markdown",
     "metadata": {},
     "source": [
      "Data points that invalidates the assumed model. \n",
      "\n",
      "Outliers are relative to the model."
     ]
    },
    {
     "cell_type": "markdown",
     "metadata": {},
     "source": [
      "#Standard Error and Standard Deviation\n",
      "Standard Error(SE) measures the variability within a sample.\n",
      "\n",
      "Standard Deviation(SD) measures the variability within a population.\n",
      "\n",
      "Coefficient of Variation\n",
      "\n",
      "Normalize for different value of mean\n",
      "\n",
      "$SE / Mean$\n"
     ]
    },
    {
     "cell_type": "markdown",
     "metadata": {},
     "source": [
      "#Constructing Confidence Intervals"
     ]
    },
    {
     "cell_type": "markdown",
     "metadata": {},
     "source": [
      "#Type 1, Type2 Errors and Power"
     ]
    },
    {
     "cell_type": "markdown",
     "metadata": {},
     "source": [
      "#Chi-Square Goodness of Fit"
     ]
    },
    {
     "cell_type": "markdown",
     "metadata": {},
     "source": [
      "#Correlation Coefficient\n",
      "\n",
      "Measures degree of co-linearity\n",
      "\n",
      "**Pearson's Correlation**:\n",
      "- Continuous data\n",
      "\n",
      "**Spearman's Correlation**:\n",
      "- Rank/Order data\n",
      "\n",
      "Assumptions\n",
      "1. Samples are randomly selected from the population they represent\n",
      "2. The two Random Variables are bivariate normal distributions\n",
      "    - The two distributions are Normal\n",
      "    - Linear combinations of the two distributions are Normal\n",
      "    - Implies homoscedascity (Constant variance across all X values for the 2 RVs)\n"
     ]
    },
    {
     "cell_type": "markdown",
     "metadata": {},
     "source": [
      "#Regression towards the mean\n",
      "Extreme measurements tend to closer to the mean when remeasured\n"
     ]
    },
    {
     "cell_type": "markdown",
     "metadata": {},
     "source": [
      "#Calculating Regression Coefficient\n",
      "\n"
     ]
    },
    {
     "cell_type": "code",
     "collapsed": false,
     "input": [
      "def calculate_beta(x, y):\n",
      "    sum_xy = sum([x * y for x, y in zip(x, y)])\n",
      "    sumx_sumy_mean = sum(x) * sum(y) / float(len(x))\n",
      "    covar_xy = sum_xy - sumx_sumy_mean\n",
      "    \n",
      "    "
     ],
     "language": "python",
     "metadata": {},
     "outputs": []
    },
    {
     "cell_type": "markdown",
     "metadata": {},
     "source": [
      "#MLE"
     ]
    },
    {
     "cell_type": "markdown",
     "metadata": {},
     "source": []
    },
    {
     "cell_type": "markdown",
     "metadata": {},
     "source": [
      "#Path Analysis"
     ]
    },
    {
     "cell_type": "markdown",
     "metadata": {},
     "source": [
      "#Structural Equation Modelling"
     ]
    }
   ],
   "metadata": {}
  }
 ]
}