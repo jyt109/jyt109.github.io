{
 "metadata": {
  "name": "",
  "signature": "sha256:78fbbc4840815ad3e2b0d10b6365a2cdc223544487368c5af38bc249af9038c0"
 },
 "nbformat": 3,
 "nbformat_minor": 0,
 "worksheets": [
  {
   "cells": [
    {
     "cell_type": "markdown",
     "metadata": {},
     "source": [
      "##Numpy Basics\n",
      "\n",
      "- Numpy comes with better built-ins than regular lists \n",
      "- A lot of the times, numpy functions will take a regular list\n",
      "- There are faster because they have broadcasting and the underlying C code\n",
      "- Useful if you need to loop multiple times\n",
      "- Slow/ annoying if you wanna append an element to np.array\n",
      "- Sometimes have to reshape the array to 2d to do matrix dot product\n",
      "- Always use shape if you wanna know the number of rows/ columns\n",
      "- This will be a growing list\n",
      "\n",
      "<!-- TEASER_END -->\n",
      "\n",
      "<br>"
     ]
    },
    {
     "cell_type": "code",
     "collapsed": false,
     "input": [
      "from __future__ import division\n",
      "import numpy as np"
     ],
     "language": "python",
     "metadata": {},
     "outputs": [],
     "prompt_number": 123
    },
    {
     "cell_type": "markdown",
     "metadata": {},
     "source": [
      "###**By default, numpy operate under the types <span style='color:red'>np.float64</span>, <span style='color:red'>np.int32</span> and <span style='color:red'>np.string_</span>**\n",
      "\n",
      "- np.float64 most of the time\n",
      "- Instead of just float() and int()"
     ]
    },
    {
     "cell_type": "markdown",
     "metadata": {},
     "source": [
      "###Making a deep copy of a subset of the data"
     ]
    },
    {
     "cell_type": "code",
     "collapsed": false,
     "input": [
      "arr = np.array([0, 3, 1, 4, 64])\n",
      "subarr = np.array(arr[2:4])\n",
      "subarr[1]=99\n",
      "print subarr\n",
      "subarr *= 5\n",
      "print arr\n",
      "print subarr"
     ],
     "language": "python",
     "metadata": {},
     "outputs": [
      {
       "output_type": "stream",
       "stream": "stdout",
       "text": [
        "[ 1 99]\n",
        "[ 0  3  1  4 64]\n",
        "[  5 495]\n"
       ]
      }
     ],
     "prompt_number": 118
    },
    {
     "cell_type": "code",
     "collapsed": false,
     "input": [
      "arr2 = np.array(arr, copy=True) #Deep copy of the whole thing\n",
      "arr2 *= 10\n",
      "print arr\n",
      "print arr2"
     ],
     "language": "python",
     "metadata": {},
     "outputs": [
      {
       "output_type": "stream",
       "stream": "stdout",
       "text": [
        "[ 0  3  1  4 64]\n",
        "[  0  30  10  40 640]\n"
       ]
      }
     ],
     "prompt_number": 120
    },
    {
     "cell_type": "markdown",
     "metadata": {},
     "source": [
      "###Appending column / row wise"
     ]
    },
    {
     "cell_type": "code",
     "collapsed": false,
     "input": [
      "x1 = np.ones((5,1))\n",
      "x2 = np.zeros((5,1))\n",
      "print np.column_stack([x1,x2])\n",
      "np.row_stack([x1,x2])"
     ],
     "language": "python",
     "metadata": {},
     "outputs": [
      {
       "output_type": "stream",
       "stream": "stdout",
       "text": [
        "[[ 1.  0.]\n",
        " [ 1.  0.]\n",
        " [ 1.  0.]\n",
        " [ 1.  0.]\n",
        " [ 1.  0.]]\n"
       ]
      },
      {
       "metadata": {},
       "output_type": "pyout",
       "prompt_number": 5,
       "text": [
        "array([[ 1.],\n",
        "       [ 1.],\n",
        "       [ 1.],\n",
        "       [ 1.],\n",
        "       [ 1.],\n",
        "       [ 0.],\n",
        "       [ 0.],\n",
        "       [ 0.],\n",
        "       [ 0.],\n",
        "       [ 0.]])"
       ]
      }
     ],
     "prompt_number": 5
    },
    {
     "cell_type": "markdown",
     "metadata": {},
     "source": [
      "###Argsort: Sort and then convert the number to its 0th-based index\n",
      "###Argmin/ Argmax: Index of first min/ max element "
     ]
    },
    {
     "cell_type": "code",
     "collapsed": false,
     "input": [
      "#0: 3\n",
      "#1: 1\n",
      "#2: 2\n",
      "#3: 5\n",
      "print np.argsort([3, 1, 2, 5])\n",
      "print np.argmax([3, 1, 2, 5, 5], axis=0)\n",
      "print np.argmin([3, 1, 2, 5, 5], axis=0)"
     ],
     "language": "python",
     "metadata": {},
     "outputs": [
      {
       "output_type": "stream",
       "stream": "stdout",
       "text": [
        "[1 2 0 3]\n",
        "3\n",
        "1\n"
       ]
      }
     ],
     "prompt_number": 14
    },
    {
     "cell_type": "markdown",
     "metadata": {},
     "source": [
      "###Argwhere: return indexes of  non-zero elements \n",
      "\n",
      "- Doesn't apply to np.nan"
     ]
    },
    {
     "cell_type": "code",
     "collapsed": false,
     "input": [
      "np.argwhere([3, 1, 0, 0, 2, 5, 3, 1, 2, np.nan])"
     ],
     "language": "python",
     "metadata": {},
     "outputs": [
      {
       "metadata": {},
       "output_type": "pyout",
       "prompt_number": 11,
       "text": [
        "array([[0],\n",
        "       [1],\n",
        "       [4],\n",
        "       [5],\n",
        "       [6],\n",
        "       [7],\n",
        "       [8],\n",
        "       [9]])"
       ]
      }
     ],
     "prompt_number": 11
    },
    {
     "cell_type": "markdown",
     "metadata": {},
     "source": [
      "###Ndim: Dimensions of numpy object"
     ]
    },
    {
     "cell_type": "code",
     "collapsed": false,
     "input": [
      "a = np.array([3, 2, 3])\n",
      "print 'Dimension of object: ', a.ndim\n",
      "a = a.reshape((1, 3)) \n",
      "print 'Dimension of object: ', a.ndim\n",
      "print 'Length of object: ', len(a)\n",
      "print 'nrow: %d, ncol: %d' % (a.shape[0], a.shape[1])"
     ],
     "language": "python",
     "metadata": {},
     "outputs": [
      {
       "output_type": "stream",
       "stream": "stdout",
       "text": [
        "Dimension of object:  1\n",
        "Dimension of object:  2\n",
        "Length of object:  1\n",
        "nrow: 1, ncol: 3\n"
       ]
      }
     ],
     "prompt_number": 31
    },
    {
     "cell_type": "markdown",
     "metadata": {},
     "source": [
      "###Arange / Linspace: Discrete / Continuous sequence of numbers "
     ]
    },
    {
     "cell_type": "code",
     "collapsed": false,
     "input": [
      "print np.arange(10)\n",
      "b = np.arange(0, 10, 2, dtype=float)\n",
      "print 'Step of 2: %s ||| With type: %s ' % (b, b.dtype)"
     ],
     "language": "python",
     "metadata": {},
     "outputs": [
      {
       "output_type": "stream",
       "stream": "stdout",
       "text": [
        "[0 1 2 3 4 5 6 7 8 9]\n",
        "Step of 2: [ 0.  2.  4.  6.  8.] ||| With type: float64 \n"
       ]
      }
     ],
     "prompt_number": 45
    },
    {
     "cell_type": "code",
     "collapsed": false,
     "input": [
      "#retstep=True returns step size as the 2nd element\n",
      "#num=50 is default \n",
      "#endpoint=False does not include the last num (default: True)\n",
      "cont_range, step_size = np.linspace(0, 10, num=20, retstep=True, dtype=float, endpoint=False)\n",
      "print cont_range\n",
      "print 'step size: ', step_size"
     ],
     "language": "python",
     "metadata": {},
     "outputs": [
      {
       "output_type": "stream",
       "stream": "stdout",
       "text": [
        "[ 0.   0.5  1.   1.5  2.   2.5  3.   3.5  4.   4.5  5.   5.5  6.   6.5  7.\n",
        "  7.5  8.   8.5  9.   9.5]\n",
        "step size:  0.5\n"
       ]
      }
     ],
     "prompt_number": 48
    },
    {
     "cell_type": "markdown",
     "metadata": {},
     "source": [
      "### Eye/ Diag: Make Array filling the diagonal"
     ]
    },
    {
     "cell_type": "code",
     "collapsed": false,
     "input": [
      "np.eye(3)"
     ],
     "language": "python",
     "metadata": {},
     "outputs": [
      {
       "metadata": {},
       "output_type": "pyout",
       "prompt_number": 49,
       "text": [
        "array([[ 1.,  0.,  0.],\n",
        "       [ 0.,  1.,  0.],\n",
        "       [ 0.,  0.,  1.]])"
       ]
      }
     ],
     "prompt_number": 49
    },
    {
     "cell_type": "code",
     "collapsed": false,
     "input": [
      "np.diag(range(1, 5))"
     ],
     "language": "python",
     "metadata": {},
     "outputs": [
      {
       "metadata": {},
       "output_type": "pyout",
       "prompt_number": 54,
       "text": [
        "array([[1, 0, 0, 0],\n",
        "       [0, 2, 0, 0],\n",
        "       [0, 0, 3, 0],\n",
        "       [0, 0, 0, 4]])"
       ]
      }
     ],
     "prompt_number": 54
    },
    {
     "cell_type": "code",
     "collapsed": false,
     "input": [
      "#The second argument is offset to the right (+ve), left(-ve)\n",
      "np.diag(range(1, 5), 1)"
     ],
     "language": "python",
     "metadata": {},
     "outputs": [
      {
       "metadata": {},
       "output_type": "pyout",
       "prompt_number": 55,
       "text": [
        "array([[0, 1, 0, 0, 0],\n",
        "       [0, 0, 2, 0, 0],\n",
        "       [0, 0, 0, 3, 0],\n",
        "       [0, 0, 0, 0, 4],\n",
        "       [0, 0, 0, 0, 0]])"
       ]
      }
     ],
     "prompt_number": 55
    },
    {
     "cell_type": "markdown",
     "metadata": {},
     "source": [
      "###Random.seed: Setting the seed"
     ]
    },
    {
     "cell_type": "code",
     "collapsed": false,
     "input": [
      "np.random.seed(1)"
     ],
     "language": "python",
     "metadata": {},
     "outputs": [],
     "prompt_number": 56
    },
    {
     "cell_type": "markdown",
     "metadata": {},
     "source": [
      "###Matrix_rank: Return the number independent row/ col\n",
      "\n",
      "- Dependent if row / col is a smaller number\n",
      "- **DON'T CONFUSE WITH np.rank which is just the number of dimensions!!!**"
     ]
    },
    {
     "cell_type": "code",
     "collapsed": false,
     "input": [
      "np.linalg.matrix_rank(np.array([[1, 2], [2, 4]]))"
     ],
     "language": "python",
     "metadata": {},
     "outputs": [
      {
       "metadata": {},
       "output_type": "pyout",
       "prompt_number": 61,
       "text": [
        "1"
       ]
      }
     ],
     "prompt_number": 61
    },
    {
     "cell_type": "code",
     "collapsed": false,
     "input": [
      "print 'NO NO NO: ',np.rank(np.array([[1, 2], [2, 4]]))\n"
     ],
     "language": "python",
     "metadata": {},
     "outputs": [
      {
       "output_type": "stream",
       "stream": "stdout",
       "text": [
        "NO NO NO:  2\n"
       ]
      }
     ],
     "prompt_number": 66
    },
    {
     "cell_type": "code",
     "collapsed": false,
     "input": [
      "np.linalg.matrix_rank(np.array([[1, 2], [3, 4]]))"
     ],
     "language": "python",
     "metadata": {},
     "outputs": [
      {
       "metadata": {},
       "output_type": "pyout",
       "prompt_number": 62,
       "text": [
        "2"
       ]
      }
     ],
     "prompt_number": 62
    },
    {
     "cell_type": "markdown",
     "metadata": {},
     "source": [
      "###Numpy Assignment of elements"
     ]
    },
    {
     "cell_type": "code",
     "collapsed": false,
     "input": [
      "o = np.ones((4, 4), dtype=int)\n",
      "o[3, 1] = 6\n",
      "o[2, 3] = 2\n",
      "o[1, -2:] = [99, 999] \n",
      "o"
     ],
     "language": "python",
     "metadata": {},
     "outputs": [
      {
       "metadata": {},
       "output_type": "pyout",
       "prompt_number": 114,
       "text": [
        "array([[  1,   1,   1,   1],\n",
        "       [  1,   1,  99, 999],\n",
        "       [  1,   1,   1,   2],\n",
        "       [  1,   6,   1,   1]])"
       ]
      }
     ],
     "prompt_number": 114
    },
    {
     "cell_type": "markdown",
     "metadata": {},
     "source": [
      "###Extra: Pandas Assignment of elements"
     ]
    },
    {
     "cell_type": "code",
     "collapsed": false,
     "input": [
      "import pandas as pd"
     ],
     "language": "python",
     "metadata": {},
     "outputs": [],
     "prompt_number": 71
    },
    {
     "cell_type": "code",
     "collapsed": false,
     "input": [
      "df = pd.DataFrame([[1, 2, 3], [3, 4, 5]], index=['a', 'b'], columns=['f', 's', 't'], dtype=np.float64)\n",
      "df.info()"
     ],
     "language": "python",
     "metadata": {},
     "outputs": [
      {
       "output_type": "stream",
       "stream": "stdout",
       "text": [
        "<class 'pandas.core.frame.DataFrame'>\n",
        "Index: 2 entries, a to b\n",
        "Data columns (total 3 columns):\n",
        "f    2 non-null float64\n",
        "s    2 non-null float64\n",
        "t    2 non-null float64\n",
        "dtypes: float64(3)"
       ]
      }
     ],
     "prompt_number": 121
    },
    {
     "cell_type": "code",
     "collapsed": false,
     "input": [
      "df.ix[1, 2] = 'zz' #Turned the type of the whole df to object\n",
      "print df\n",
      "df.info()"
     ],
     "language": "python",
     "metadata": {},
     "outputs": [
      {
       "output_type": "stream",
       "stream": "stdout",
       "text": [
        "   f  s   t\n",
        "a  1  2   3\n",
        "b  3  4  zz\n",
        "\n",
        "[2 rows x 3 columns]\n",
        "<class 'pandas.core.frame.DataFrame'>\n",
        "Index: 2 entries, a to b\n",
        "Data columns (total 3 columns):\n",
        "f    2 non-null object\n",
        "s    2 non-null object\n",
        "t    2 non-null object\n",
        "dtypes: object(3)"
       ]
      }
     ],
     "prompt_number": 122
    },
    {
     "cell_type": "markdown",
     "metadata": {},
     "source": [
      "###Tile / Repeat: Clone array in different ways"
     ]
    },
    {
     "cell_type": "code",
     "collapsed": false,
     "input": [
      "a = [0, 1, 2]\n",
      "np.tile(a, 2)"
     ],
     "language": "python",
     "metadata": {},
     "outputs": [
      {
       "metadata": {},
       "output_type": "pyout",
       "prompt_number": 81,
       "text": [
        "array([[0, 1, 2],\n",
        "       [0, 1, 2]])"
       ]
      }
     ],
     "prompt_number": 81
    },
    {
     "cell_type": "code",
     "collapsed": false,
     "input": [
      "np.repeat(a, 2)"
     ],
     "language": "python",
     "metadata": {},
     "outputs": [
      {
       "metadata": {},
       "output_type": "pyout",
       "prompt_number": 78,
       "text": [
        "array([0, 0, 1, 1, 2, 2])"
       ]
      }
     ],
     "prompt_number": 78
    },
    {
     "cell_type": "code",
     "collapsed": false,
     "input": [
      "print np.tile(a, (1, 2))\n",
      "print np.tile(a, (2, 1))"
     ],
     "language": "python",
     "metadata": {},
     "outputs": [
      {
       "output_type": "stream",
       "stream": "stdout",
       "text": [
        "[[0 1 2 0 1 2]]\n",
        "[[0 1 2]\n",
        " [0 1 2]]\n"
       ]
      }
     ],
     "prompt_number": 82
    },
    {
     "cell_type": "markdown",
     "metadata": {},
     "source": [
      "###Extra: Regular List way to repeat elements"
     ]
    },
    {
     "cell_type": "code",
     "collapsed": false,
     "input": [
      "[2, 1] * 3"
     ],
     "language": "python",
     "metadata": {},
     "outputs": [
      {
       "metadata": {},
       "output_type": "pyout",
       "prompt_number": 124,
       "text": [
        "[2, 1, 2, 1, 2, 1]"
       ]
      }
     ],
     "prompt_number": 124
    },
    {
     "cell_type": "code",
     "collapsed": false,
     "input": [
      "#conditiona, if true then, if false then\n",
      "np.where()"
     ],
     "language": "python",
     "metadata": {},
     "outputs": [],
     "prompt_number": 125
    },
    {
     "cell_type": "code",
     "collapsed": false,
     "input": [
      "zip(*list_of_list)"
     ],
     "language": "python",
     "metadata": {},
     "outputs": [],
     "prompt_number": 126
    },
    {
     "cell_type": "code",
     "collapsed": false,
     "input": [
      "average of proba\n"
     ],
     "language": "python",
     "metadata": {},
     "outputs": []
    }
   ],
   "metadata": {}
  }
 ]
}