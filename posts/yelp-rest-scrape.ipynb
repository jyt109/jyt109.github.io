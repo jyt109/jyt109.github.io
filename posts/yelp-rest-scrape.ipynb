{
 "metadata": {
  "name": "",
  "signature": "sha256:d009f9e41a33b44ac2588b288e960442e720ec4e6f0be41cf746bf2084cf8482"
 },
 "nbformat": 3,
 "nbformat_minor": 0,
 "worksheets": [
  {
   "cells": [
    {
     "cell_type": "markdown",
     "metadata": {},
     "source": [
      "**A simple example of how to scrape reviews from yelp and put it in a MongoDB database**\n",
      "\n",
      "- This assumes you already have scrape the metadata using the yelp API\n",
      "- Another post will cover yelp-API in python (Coming)\n",
      "\n",
      "<!-- TEASER_END -->\n",
      "\n",
      "<br>"
     ]
    },
    {
     "cell_type": "code",
     "collapsed": false,
     "input": [
      "import json\n",
      "import requests\n",
      "import bs4\n",
      "import pymongo"
     ],
     "language": "python",
     "metadata": {},
     "outputs": [],
     "prompt_number": 15
    },
    {
     "cell_type": "code",
     "collapsed": false,
     "input": [
      "client = pymongo.MongoClient()\n",
      "db = client['yelp2']"
     ],
     "language": "python",
     "metadata": {},
     "outputs": [],
     "prompt_number": 16
    },
    {
     "cell_type": "code",
     "collapsed": false,
     "input": [
      "db.create_collection('info')"
     ],
     "language": "python",
     "metadata": {},
     "outputs": [
      {
       "metadata": {},
       "output_type": "pyout",
       "prompt_number": 17,
       "text": [
        "Collection(Database(MongoClient('localhost', 27017), u'yelp2'), u'info')"
       ]
      }
     ],
     "prompt_number": 17
    },
    {
     "cell_type": "code",
     "collapsed": false,
     "input": [
      "yelp = json.load(open('data/yelp.json'))"
     ],
     "language": "python",
     "metadata": {},
     "outputs": [],
     "prompt_number": 36
    },
    {
     "cell_type": "code",
     "collapsed": false,
     "input": [
      "yelp[0].keys()"
     ],
     "language": "python",
     "metadata": {},
     "outputs": [
      {
       "metadata": {},
       "output_type": "pyout",
       "prompt_number": 37,
       "text": [
        "[u'is_claimed',\n",
        " u'rating',\n",
        " u'mobile_url',\n",
        " u'rating_img_url',\n",
        " u'review_count',\n",
        " u'name',\n",
        " u'rating_img_url_small',\n",
        " u'url',\n",
        " u'snippet_text',\n",
        " u'image_url',\n",
        " u'is_closed',\n",
        " u'rating_img_url_large',\n",
        " u'_id',\n",
        " u'id',\n",
        " u'categories',\n",
        " u'location']"
       ]
      }
     ],
     "prompt_number": 37
    },
    {
     "cell_type": "code",
     "collapsed": false,
     "input": [
      "for entry in yelp:\n",
      "    link = entry['url']\n",
      "    response = requests.get(link).content\n",
      "    soup = bs4.BeautifulSoup(response)\n",
      "    reviews = soup.select('.review_comment.ieSucks')\n",
      "    reviews_txt = [review.text.strip() for review in reviews]\n",
      "    entry['review_txt'] = reviews_txt\n",
      "    num_stars5 = len(soup.select('.star-img.stars_5'))\n",
      "    entry['num_5_star'] = num_stars5\n",
      "    entry['_id'] = entry['_id']['$oid']\n",
      "    db.info.insert(entry)"
     ],
     "language": "python",
     "metadata": {},
     "outputs": [],
     "prompt_number": 38
    },
    {
     "cell_type": "code",
     "collapsed": false,
     "input": [
      "list(db.info.find({}, {'num_5_star':1}))"
     ],
     "language": "python",
     "metadata": {},
     "outputs": [
      {
       "metadata": {},
       "output_type": "pyout",
       "prompt_number": 45,
       "text": [
        "[{u'_id': u'5397f7862774e20e42c8f717', u'num_5_star': 2},\n",
        " {u'_id': u'5397e1e52774e20dc8cc8cfe', u'num_5_star': 32},\n",
        " {u'_id': u'5397f7852774e20e42c8f704', u'num_5_star': 13},\n",
        " {u'_id': u'5397f7852774e20e42c8f705', u'num_5_star': 16},\n",
        " {u'_id': u'5397f7852774e20e42c8f706', u'num_5_star': 12},\n",
        " {u'_id': u'5397f7852774e20e42c8f707', u'num_5_star': 16},\n",
        " {u'_id': u'5397f7852774e20e42c8f708', u'num_5_star': 13},\n",
        " {u'_id': u'5397f7852774e20e42c8f709', u'num_5_star': 11},\n",
        " {u'_id': u'5397f7852774e20e42c8f70a', u'num_5_star': 16},\n",
        " {u'_id': u'5397f7852774e20e42c8f70b', u'num_5_star': 10},\n",
        " {u'_id': u'5397f7852774e20e42c8f70c', u'num_5_star': 11},\n",
        " {u'_id': u'5397f7852774e20e42c8f70d', u'num_5_star': 10},\n",
        " {u'_id': u'5397f7852774e20e42c8f711', u'num_5_star': 9},\n",
        " {u'_id': u'5397f7852774e20e42c8f70e', u'num_5_star': 16},\n",
        " {u'_id': u'5397f7852774e20e42c8f70f', u'num_5_star': 13},\n",
        " {u'_id': u'5397f7852774e20e42c8f710', u'num_5_star': 9},\n",
        " {u'_id': u'5397f7852774e20e42c8f712', u'num_5_star': 5},\n",
        " {u'_id': u'5397f7852774e20e42c8f713', u'num_5_star': 20},\n",
        " {u'_id': u'5397f7852774e20e42c8f714', u'num_5_star': 8},\n",
        " {u'_id': u'5397f7852774e20e42c8f715', u'num_5_star': 9},\n",
        " {u'_id': u'5397f7852774e20e42c8f716', u'num_5_star': 7},\n",
        " {u'_id': u'5397f7862774e20e42c8f718', u'num_5_star': 4},\n",
        " {u'_id': u'5397f7862774e20e42c8f719', u'num_5_star': 5},\n",
        " {u'_id': u'5397f7862774e20e42c8f71a', u'num_5_star': 8},\n",
        " {u'_id': u'5397f7862774e20e42c8f71b', u'num_5_star': 6},\n",
        " {u'_id': u'5397f7862774e20e42c8f71c', u'num_5_star': 6},\n",
        " {u'_id': u'5397f7862774e20e42c8f71d', u'num_5_star': 10}]"
       ]
      }
     ],
     "prompt_number": 45
    }
   ],
   "metadata": {}
  }
 ]
}