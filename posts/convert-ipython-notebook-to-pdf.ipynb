{
 "metadata": {
  "name": "",
  "signature": "sha256:67efc6af75aff07b1d38a8de3aa213140eca34fd9fb90cd1ca2d2b514843ccf8"
 },
 "nbformat": 3,
 "nbformat_minor": 0,
 "worksheets": [
  {
   "cells": [
    {
     "cell_type": "markdown",
     "metadata": {},
     "source": [
      "**You have done your** <span style='color:#FF6A6A; font-weight:bold'>data analysis in IPython Notebook ...</span>\n",
      "\n",
      "**Now you want it in a** <span style='color:#add8e6; font-weight:bold'>PDF as a report to show your boss ...</span>\n",
      "\n",
      "<br>\n",
      "\n",
      "**NOTEBOOK --> PDF in under 5 mins**\n",
      "\n",
      "P.S. Instructions has only been tested on Mac Pro (Mavericks). User be cautious\n",
      "\n",
      "<!-- TEASER_END -->\n",
      "\n",
      "<br>"
     ]
    },
    {
     "cell_type": "markdown",
     "metadata": {},
     "source": [
      "<span style='font-size:1.5em; font-weight:bold'>Step 1 - Download Latex (If you do not have it)</span>\n",
      "\n",
      "**Windows**: [http://miktex.org/download](http://miktex.org/download)\n",
      "\n",
      "**Mac**: [https://tug.org/mactex/](https://tug.org/mactex/)\n",
      "\n",
      "\n",
      "Unpack and follow the instructions. \n",
      "\n",
      "It will take a while to install and it takes some space (2.3 GB) \n",
      "\n",
      "<br>\n",
      "\n",
      "<span style='font-size:1.2em; font-weight:bold'>After 30 mins and you have installed ...</span>\n",
      "\n",
      "<br>\n",
      "**In your terminal, try:**\n",
      "\n",
      "```bash\n",
      "pdflatex\n",
      "```\n",
      "\n",
      "<br>\n",
      "**Most likely it will return:**\n",
      "\n",
      "```bash\n",
      "pdflatex: Command not found\n",
      "```\n",
      "\n",
      "<br>\n",
      "**Now try this:**\n",
      "\n",
      "```bash\n",
      "export PATH=/usr/texbin:$PATH\n",
      "\n",
      "pdflatex\n",
      "```\n",
      "\n",
      "<br>\n",
      "**Now it should work. Hit CTRL + C to exit pdflatex**\n",
      "\n",
      "\n",
      "_**To make it still work when you strike up a new terminal next time, paste the export line in the ~/.bashrc file**_\n",
      "\n",
      "\n",
      "\n",
      "<br>\n",
      "\n",
      "<br>\n"
     ]
    },
    {
     "cell_type": "markdown",
     "metadata": {},
     "source": [
      "<span style='font-size:1.5em; font-weight:bold'>Step 2 - Upgrade / Install IPython</span>\n",
      "\n",
      "In your terminal type:\n",
      "\n",
      "<br>\n",
      "```bash\n",
      "sudo pip install --upgrade ipython # To upgrade\n",
      "\n",
      "or \n",
      "\n",
      "sudo pip install --upgrade ipython # To install\n",
      "```\n",
      "\n",
      "<br>\n",
      "Don't worry. It will not affect the behaviour of your IPython Notebook"
     ]
    },
    {
     "cell_type": "markdown",
     "metadata": {},
     "source": [
      "<br>\n",
      "\n",
      "<span style='font-size:1.5em; font-weight:bold'>Step 3 - NBConvert</span>\n",
      "\n",
      "**Go to the folder where your IPython Notebook resides ...**\n",
      "\n",
      "**In your terminal, type:**\n",
      "\n",
      "```bash\n",
      "ipython nbconvert --to latex --post PDF your_ipython_notebook.ipynb\n",
      "```\n",
      "<br>\n",
      "Then you have it there, a PDF called your_ipython_notebook.pdf\n",
      "\n",
      "\n"
     ]
    },
    {
     "cell_type": "markdown",
     "metadata": {},
     "source": [
      "<br>\n",
      "\n",
      "<span style='font-size:1.5em; font-weight:bold'>Step 3 - But I don't want the code to show in the PDF</span>\n"
     ]
    },
    {
     "cell_type": "markdown",
     "metadata": {},
     "source": [
      "**Make a new file in the folder, called _no_code.tplx_ with the following content:**\n",
      "\n",
      "\n",
      "```bash\n",
      "((*- extends 'article.tplx' -*))\n",
      "% Disable input cells\n",
      "((* block input_group *))\n",
      "((* endblock input_group *))\n",
      "```\n",
      "\n",
      "<br>\n",
      "**Then in your terminal, type:**\n",
      "\n",
      "```bash\n",
      "ipython nbconvert --to latex --template=no_code.tplx --post PDF your_ipython_notebook.ipynb\n",
      "```\n",
      "\n"
     ]
    },
    {
     "cell_type": "markdown",
     "metadata": {},
     "source": [
      "\n",
      "<br>\n",
      "\n",
      "**If you wanna make the images better quality or the text ident the right way, there is more.**\n",
      "\n",
      "**Please comment and I will add in per requested**\n"
     ]
    }
   ],
   "metadata": {}
  }
 ]
}