{
 "metadata": {
  "name": "",
  "signature": "sha256:80cac8a942a3d2d459bb19290af80f4a390b2c9e23cc95eba43ae1c92b2c2cf5"
 },
 "nbformat": 3,
 "nbformat_minor": 0,
 "worksheets": [
  {
   "cells": [
    {
     "cell_type": "markdown",
     "metadata": {},
     "source": [
      "This is a sample of how I do **Natural Language Processing(NLP)**\n",
      "\n",
      "- NLP helps us extract meaning of words without reading them manually (very rough kinda definition)\n",
      "- In this case, we are trying to guess the topic of the passage based on the words that are in it\n",
      "- And we don't even need to tell it what topics to look for\n",
      "- We just need to specify how many (and even a wrong number won't work too badly)\n",
      "- This is just code, I will come back to the explanation of the concepts behind\n",
      "\n",
      "<!-- TEASER_END -->\n",
      "\n",
      "<br>"
     ]
    },
    {
     "cell_type": "code",
     "collapsed": false,
     "input": [
      "from sklearn.feature_extraction.text import TfidfVectorizer\n",
      "from sklearn.cluster import KMeans\n",
      "from scipy.cluster import hierarchy\n",
      "import nltk\n",
      "from nltk.corpus import stopwords\n",
      "from nltk.stem import WordNetLemmatizer, SnowballStemmer \n",
      "import string\n",
      "import pickle\n",
      "from sklearn.decomposition import NMF\n",
      "import re\n",
      "from time import time\n",
      "import numpy as np"
     ],
     "language": "python",
     "metadata": {},
     "outputs": [],
     "prompt_number": 63
    },
    {
     "cell_type": "code",
     "collapsed": false,
     "input": [
      "articles = pickle.load(open('articles.pkl'))"
     ],
     "language": "python",
     "metadata": {},
     "outputs": [],
     "prompt_number": 6
    },
    {
     "cell_type": "code",
     "collapsed": false,
     "input": [
      "def snowball_stem(word_l):\n",
      "    stemmer = SnowballStemmer('english')\n",
      "    return [stemmer.stem(word) for word in word_l]\n",
      "\n",
      "def tokenize_stem(text):\n",
      "    extra_stops = ['ms', 'mrs', 'mr', 'would', 'could']\n",
      "    text = re.sub('[^a-zA-z\\s]+', '', text).lower()\n",
      "    tokens = nltk.word_tokenize(text)\n",
      "    stops = stopwords.words('english') + \\\n",
      "            list(string.punctuation)  + \\\n",
      "            extra_stops\n",
      "    new_tokens = [token for token in tokens if token not in stops]\n",
      "    snowball_lst = snowball_stem(new_tokens)\n",
      "    return snowball_lst"
     ],
     "language": "python",
     "metadata": {},
     "outputs": [],
     "prompt_number": 47
    },
    {
     "cell_type": "code",
     "collapsed": false,
     "input": [
      "t0 = time()\n",
      "vectorizer = TfidfVectorizer(max_features=1000,\n",
      "                             tokenizer=tokenize_stem)\n",
      "tfids = vectorizer.fit_transform(articles.content)\n",
      "print(\"done in %0.3fs.\" % (time() - t0))"
     ],
     "language": "python",
     "metadata": {},
     "outputs": [
      {
       "output_type": "stream",
       "stream": "stdout",
       "text": [
        "done in 35.643s.\n"
       ]
      }
     ],
     "prompt_number": 34
    },
    {
     "cell_type": "code",
     "collapsed": false,
     "input": [
      "feature_names = vectorizer.get_feature_names() "
     ],
     "language": "python",
     "metadata": {},
     "outputs": [],
     "prompt_number": 35
    },
    {
     "cell_type": "code",
     "collapsed": false,
     "input": [
      "tfids.shape"
     ],
     "language": "python",
     "metadata": {},
     "outputs": [
      {
       "metadata": {},
       "output_type": "pyout",
       "prompt_number": 41,
       "text": [
        "(1405, 1000)"
       ]
      }
     ],
     "prompt_number": 41
    },
    {
     "cell_type": "code",
     "collapsed": false,
     "input": [
      "t0 = time()\n",
      "nmf = NMF(n_components=10, random_state=1).fit(tfids)\n",
      "print(\"done in %0.3fs.\" % (time() - t0))"
     ],
     "language": "python",
     "metadata": {},
     "outputs": [
      {
       "output_type": "stream",
       "stream": "stdout",
       "text": [
        "done in 1.909s.\n"
       ]
      }
     ],
     "prompt_number": 42
    },
    {
     "cell_type": "code",
     "collapsed": false,
     "input": [
      "nmf"
     ],
     "language": "python",
     "metadata": {},
     "outputs": [
      {
       "metadata": {},
       "output_type": "pyout",
       "prompt_number": 43,
       "text": [
        "NMF(beta=1, eta=0.1, init=None, max_iter=200, n_components=10,\n",
        "  nls_max_iter=2000, random_state=1, sparseness=None, tol=0.0001)"
       ]
      }
     ],
     "prompt_number": 43
    },
    {
     "cell_type": "code",
     "collapsed": false,
     "input": [
      "n_top_words = 20\n",
      "#topic is the tf-idf scores for the 1000 features/words\n",
      "topic_reps = []\n",
      "for topic_idx, topic in enumerate(nmf.components_):\n",
      "    print(\"Topic #%d:\" % topic_idx)\n",
      "    print(\" \".join([feature_names[i]\n",
      "                    for i in topic.argsort()[:-n_top_words - 1:-1]]))\n",
      "    #top 6 words to represent the topic\n",
      "    topic_rep = \" \".join([feature_names[i]\n",
      "                    for i in topic.argsort()[:-6 - 1:-1]])\n",
      "    topic_reps.append(topic_rep)"
     ],
     "language": "python",
     "metadata": {},
     "outputs": [
      {
       "output_type": "stream",
       "stream": "stdout",
       "text": [
        "Topic #0:\n",
        "mr said court parti case judg polit state prison charg elect justic former minist lawyer crime offici investig govern year\n",
        "Topic #1:\n",
        "yanke rivera pettitt inning game pitch season basebal said stadium fan ray run hit retir leagu final field career player\n",
        "Topic #2:\n",
        "iran rouhani nuclear iranian obama mr israel unit presid weapon syria state nation negoti speech diplomat meet american program leader\n",
        "Topic #3:\n",
        "attack kill said offici polic peopl secur bomb milit govern syria mall group kenya militari forc unit nation weapon citi\n",
        "Topic #4:\n",
        "republican senat hous govern health democrat shutdown care parti obama law vote bill would congress presid cruz conserv debt insur\n",
        "Topic #5:\n",
        "percent compani bank market said rate million china year govern price economi billion econom investor increas european growth would financi\n",
        "Topic #6:\n",
        "game season team yard play player giant coach said leagu touchdown score quarterback first win run defens sunday start offens\n",
        "Topic #7:\n",
        "peopl sept one like new school child editor work said life ms get univers year famili time make mani woman\n",
        "Topic #8:\n",
        "race cup team club said america one won san francisco event seri win world year challeng finish championship match tour\n",
        "Topic #9:\n",
        "music art perform ms mr pm danc show song work opera artist new museum ballet band orchestra film piec festiv\n"
       ]
      }
     ],
     "prompt_number": 68
    },
    {
     "cell_type": "code",
     "collapsed": false,
     "input": [
      "docs_featW = nmf.transform(tfids)"
     ],
     "language": "python",
     "metadata": {},
     "outputs": [],
     "prompt_number": 59
    },
    {
     "cell_type": "code",
     "collapsed": false,
     "input": [
      "featW_docs = docs_featW.T"
     ],
     "language": "python",
     "metadata": {},
     "outputs": [],
     "prompt_number": 60
    },
    {
     "cell_type": "code",
     "collapsed": false,
     "input": [
      "docs_featW.shape"
     ],
     "language": "python",
     "metadata": {},
     "outputs": [
      {
       "metadata": {},
       "output_type": "pyout",
       "prompt_number": 61,
       "text": [
        "(1405, 10)"
       ]
      }
     ],
     "prompt_number": 61
    },
    {
     "cell_type": "code",
     "collapsed": false,
     "input": [
      "most_likely_ind = np.argmax(docs_featW, axis=1)"
     ],
     "language": "python",
     "metadata": {},
     "outputs": [],
     "prompt_number": 66
    },
    {
     "cell_type": "code",
     "collapsed": false,
     "input": [
      "articles['pred_clus'] = [topic_reps[ind] for ind in most_likely_ind]"
     ],
     "language": "python",
     "metadata": {},
     "outputs": [],
     "prompt_number": 73
    },
    {
     "cell_type": "code",
     "collapsed": false,
     "input": [
      "pred_actual = articles[['section_name', 'pred_clus']]"
     ],
     "language": "python",
     "metadata": {},
     "outputs": [],
     "prompt_number": 74
    },
    {
     "cell_type": "markdown",
     "metadata": {},
     "source": [
      "##It works!"
     ]
    },
    {
     "cell_type": "code",
     "collapsed": false,
     "input": [
      "pred_actual.head()"
     ],
     "language": "python",
     "metadata": {},
     "outputs": [
      {
       "html": [
        "<div style=\"max-height:1000px;max-width:1500px;overflow:auto;\">\n",
        "<table border=\"1\" class=\"dataframe\">\n",
        "  <thead>\n",
        "    <tr style=\"text-align: right;\">\n",
        "      <th></th>\n",
        "      <th>section_name</th>\n",
        "      <th>pred_clus</th>\n",
        "    </tr>\n",
        "  </thead>\n",
        "  <tbody>\n",
        "    <tr>\n",
        "      <th>0</th>\n",
        "      <td> Sports</td>\n",
        "      <td>            game season team yard play player</td>\n",
        "    </tr>\n",
        "    <tr>\n",
        "      <th>1</th>\n",
        "      <td>   U.S.</td>\n",
        "      <td> republican senat hous govern health democrat</td>\n",
        "    </tr>\n",
        "    <tr>\n",
        "      <th>2</th>\n",
        "      <td>   U.S.</td>\n",
        "      <td>              race cup team club said america</td>\n",
        "    </tr>\n",
        "    <tr>\n",
        "      <th>3</th>\n",
        "      <td>   U.S.</td>\n",
        "      <td>                mr said court parti case judg</td>\n",
        "    </tr>\n",
        "    <tr>\n",
        "      <th>4</th>\n",
        "      <td> Sports</td>\n",
        "      <td>            game season team yard play player</td>\n",
        "    </tr>\n",
        "  </tbody>\n",
        "</table>\n",
        "<p>5 rows \u00d7 2 columns</p>\n",
        "</div>"
       ],
       "metadata": {},
       "output_type": "pyout",
       "prompt_number": 75,
       "text": [
        "  section_name                                     pred_clus\n",
        "0       Sports             game season team yard play player\n",
        "1         U.S.  republican senat hous govern health democrat\n",
        "2         U.S.               race cup team club said america\n",
        "3         U.S.                 mr said court parti case judg\n",
        "4       Sports             game season team yard play player\n",
        "\n",
        "[5 rows x 2 columns]"
       ]
      }
     ],
     "prompt_number": 75
    }
   ],
   "metadata": {}
  }
 ]
}