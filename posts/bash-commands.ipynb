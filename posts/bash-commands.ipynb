{
 "metadata": {
  "name": "",
  "signature": "sha256:3b73e71eae6c7242b77dbd333c9df85385bd1d38a8035897aca5510698a2b870"
 },
 "nbformat": 3,
 "nbformat_minor": 0,
 "worksheets": [
  {
   "cells": [
    {
     "cell_type": "raw",
     "metadata": {},
     "source": [
      "grep \"\"\n",
      "\n",
      "alias ll=\"ls -l\"\n",
      "\n",
      "chmod +x test.py #turns python \n",
      "\n",
      "#!/usr/bin/env python2.7 -B -tt\n",
      "\n",
      "Ctrl + z #suspend\n",
      "fg #activate in foreground\n",
      "bg #activate in background\n",
      "\n",
      "jobs #to show all jobs in the current tab\n",
      "\n",
      "#pull all files with name of .py and for each of those file find ones with 'string'\n",
      "find . -name \"*.py\" -exec grep -l \"string\" {} \\; \n",
      "\n",
      "\n",
      "head csv | csv look | less -S\n",
      "\n",
      "\n",
      "ps #list all jobs\n",
      "\n",
      "man\n",
      "\n",
      "#!/bin/bash"
     ]
    },
    {
     "cell_type": "code",
     "collapsed": false,
     "input": [
      "a =!head lets-prove-monty-hall-numerically.meta"
     ],
     "language": "python",
     "metadata": {},
     "outputs": [],
     "prompt_number": 1
    },
    {
     "cell_type": "code",
     "collapsed": false,
     "input": [
      "a\n"
     ],
     "language": "python",
     "metadata": {},
     "outputs": [
      {
       "metadata": {},
       "output_type": "pyout",
       "prompt_number": 2,
       "text": [
        "[\".. title: Let's Prove Monty Hall Numerically\",\n",
        " '.. slug: lets-prove-monty-hall-numerically',\n",
        " '.. date: 2014-09-05 23:58:21 UTC-07:00',\n",
        " '.. tags: draft',\n",
        " '.. link: ',\n",
        " '.. description: ',\n",
        " '.. type: text']"
       ]
      }
     ],
     "prompt_number": 2
    },
    {
     "cell_type": "code",
     "collapsed": false,
     "input": [],
     "language": "python",
     "metadata": {},
     "outputs": []
    }
   ],
   "metadata": {}
  }
 ]
}