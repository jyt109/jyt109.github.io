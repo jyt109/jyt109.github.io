{
 "metadata": {
  "name": "",
  "signature": "sha256:125939cfa34c714ac5861cdf1bf6e3da1ad98618a2ae197dead991657cb94b3b"
 },
 "nbformat": 3,
 "nbformat_minor": 0,
 "worksheets": [
  {
   "cells": [
    {
     "cell_type": "markdown",
     "metadata": {},
     "source": [
      "**Given some US coins and an amount of value in cents, return the minimum number of coins necessary for the exact value**\n",
      "\n",
      "- Loop through the coins **sorted by descending order** (25, 10...)\n",
      "- Take the **rounded division** (Add that to the number of cumulative coins)\n",
      "- Take the **modulus and pass onto the next coin** in line\n",
      "\n",
      "<!-- TEASER_END -->\n",
      "\n",
      "<br>"
     ]
    },
    {
     "cell_type": "code",
     "collapsed": false,
     "input": [
      "coins = [1, 5, 10, 25]\n",
      "\n",
      "def find_change(coins, value):\n",
      "    coins = coins[::-1]\n",
      "    cur_val = value\n",
      "    num_coins = 0\n",
      "    for coin in coins:\n",
      "        num_coins += (cur_val / coin)\n",
      "        mod = cur_val % coin\n",
      "        cur_val = cur_val % coin\n",
      "    return num_coins"
     ],
     "language": "python",
     "metadata": {},
     "outputs": [],
     "prompt_number": 1
    },
    {
     "cell_type": "code",
     "collapsed": false,
     "input": [
      "find_change(coins, 100)\n",
      "#4 quarters"
     ],
     "language": "python",
     "metadata": {},
     "outputs": [
      {
       "metadata": {},
       "output_type": "pyout",
       "prompt_number": 2,
       "text": [
        "4"
       ]
      }
     ],
     "prompt_number": 2
    },
    {
     "cell_type": "code",
     "collapsed": false,
     "input": [
      "find_change(coins, 74)\n",
      "#2 quarters, 2 dimes, 4 one cents"
     ],
     "language": "python",
     "metadata": {},
     "outputs": [
      {
       "metadata": {},
       "output_type": "pyout",
       "prompt_number": 3,
       "text": [
        "8"
       ]
      }
     ],
     "prompt_number": 3
    }
   ],
   "metadata": {}
  }
 ]
}