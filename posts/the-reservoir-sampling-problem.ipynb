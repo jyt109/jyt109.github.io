{
 "metadata": {
  "name": "",
  "signature": "sha256:680e08fa10b786dce9c806fed307260a0a330b59e15ab4993a326c0f7c2ffefb"
 },
 "nbformat": 3,
 "nbformat_minor": 0,
 "worksheets": [
  {
   "cells": [
    {
     "cell_type": "code",
     "collapsed": false,
     "input": [
      "from __future__ import division\n",
      "from collections import defaultdict, Counter\n",
      "import random\n",
      "random.seed(1234)"
     ],
     "language": "python",
     "metadata": {},
     "outputs": [],
     "prompt_number": 23
    },
    {
     "cell_type": "code",
     "collapsed": false,
     "input": [
      "def reservoirSampling(stream, k=1):\n",
      "    samples = []\n",
      "    for ind, item in enumerate(stream):\n",
      "        if ind < k:\n",
      "            samples.append(item)\n",
      "        else:\n",
      "            r = random.randint(0, ind)\n",
      "            if r < k:\n",
      "                samples[r] = item\n",
      "    return samples\n"
     ],
     "language": "python",
     "metadata": {},
     "outputs": []
    },
    {
     "cell_type": "code",
     "collapsed": false,
     "input": [
      "ll = []\n",
      "for i in xrange(100000):\n",
      "    ll.extend(reservoirSampling([1, 2, 3]))"
     ],
     "language": "python",
     "metadata": {},
     "outputs": [],
     "prompt_number": 29
    },
    {
     "cell_type": "code",
     "collapsed": false,
     "input": [
      "Counter(ll)"
     ],
     "language": "python",
     "metadata": {},
     "outputs": [
      {
       "metadata": {},
       "output_type": "pyout",
       "prompt_number": 30,
       "text": [
        "Counter({1: 33394, 2: 33332, 3: 33274})"
       ]
      }
     ],
     "prompt_number": 30
    },
    {
     "cell_type": "code",
     "collapsed": false,
     "input": [],
     "language": "python",
     "metadata": {},
     "outputs": [],
     "prompt_number": 14
    },
    {
     "cell_type": "code",
     "collapsed": false,
     "input": [],
     "language": "python",
     "metadata": {},
     "outputs": []
    }
   ],
   "metadata": {}
  }
 ]
}