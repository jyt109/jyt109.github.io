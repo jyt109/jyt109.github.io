{
 "metadata": {
  "name": "",
  "signature": "sha256:ecb28ced81f29ec989cd60aa522ecfb152e4aea726d85f7e95e14dff152ab948"
 },
 "nbformat": 3,
 "nbformat_minor": 0,
 "worksheets": [
  {
   "cells": [
    {
     "cell_type": "markdown",
     "metadata": {},
     "source": [
      "**How to _blog_ with IPython Notebook ?? **\n",
      "\n",
      "The answer is **Nikola** + **Github.**\n",
      "\n",
      "**Nikola** converts your \n",
      "\n",
      "\n",
      "\n"
     ]
    }
   ],
   "metadata": {}
  }
 ]
}