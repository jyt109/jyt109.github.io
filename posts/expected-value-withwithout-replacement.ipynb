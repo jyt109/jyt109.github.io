{
 "metadata": {
  "name": "",
  "signature": "sha256:d6bbb4b27c2a578804aa9e95fa50f19be3f72eba97cbbdaa8520c8dfb942bf67"
 },
 "nbformat": 3,
 "nbformat_minor": 0,
 "worksheets": [
  {
   "cells": [
    {
     "cell_type": "markdown",
     "metadata": {},
     "source": [
      "![](urn.png)"
     ]
    },
    {
     "cell_type": "markdown",
     "metadata": {},
     "source": [
      "Do we **_expect_** the same number of <span style=\"color:red\"><i><b>RED</b></i></span> balls when drawn **with/without replacement** ??\n",
      "\n",
      "**YES!** Turns out replacement matters not.\n",
      "<br>\n",
      "\n",
      "Let's prove by _**simulating the two scenarios**_ ...\n",
      "\n",
      "<!-- TEASER_END -->\n",
      "\n",
      "1. **randDraw( )** draws **5 balls with/without replacement** &nbsp;&nbsp;&nbsp;(for 10,000 times each)\n",
      "2. **countVal( )** counts the **frequency of each value of** <span style=\"color:red\"><i><b>RED</b></i></span> **drawn** and **normalize the freq. to %**.\n",
      "3. Calculate **Mean/Expected value of** <span style=\"color:red\"><i><b>RED</b></i></span> **drawn**\n"
     ]
    },
    {
     "cell_type": "code",
     "collapsed": false,
     "input": [
      "## Number of red ball if draw with and w/o replacement\n",
      "def randDraw(draws,numRed,numBlue,replace):\n",
      "    urn = [\"R\"] * numRed + [\"B\"] * numBlue\n",
      "    picked = []\n",
      "    for i in range(draws):\n",
      "        draw = random.choice(urn)\n",
      "        picked.append(draw)\n",
      "        if replace == True:\n",
      "            pass\n",
      "        elif replace == False:\n",
      "            urn.remove(draw)\n",
      "    \n",
      "    numRed = picked.count(\"R\")\n",
      "    return numRed"
     ],
     "language": "python",
     "metadata": {},
     "outputs": [],
     "prompt_number": 1
    },
    {
     "cell_type": "code",
     "collapsed": false,
     "input": [
      "## Count the values and convert to percent and sort by index\n",
      "def countVal(l,percent=False):\n",
      "    return pd.Series(l).value_counts(normalize=percent).sort_index() #.order(ascending=False) sort by value"
     ],
     "language": "python",
     "metadata": {},
     "outputs": [],
     "prompt_number": 2
    },
    {
     "cell_type": "code",
     "collapsed": false,
     "input": [
      "import numpy as np\n",
      "from numpy import random\n",
      "import pandas as pd\n",
      "pd.options.display.mpl_style = 'default' ## Make your graphs pretty\n",
      "from matplotlib import pyplot as plt\n",
      "%matplotlib inline\n",
      "\n",
      "## With REPLACEMENT\n",
      "withReplace = [randDraw(5,5,5,True) for i in range(10000)]\n",
      "\n",
      "## Without REPLACEMENT\n",
      "withoutReplace = [randDraw(5,5,5,False) for i in range(10000)]\n",
      "\n",
      "print \"## With REPLACEMENT\"\n",
      "print \"Expected Red with replacement (avg. of 10,000 simulations) : %f\" % (np.mean(withReplace))\n",
      "print \"\\n## Without REPLACEMENT\"\n",
      "print \"Expected Red without replacement (avg. of 10,000 simulations): %f\" % (np.mean(withoutReplace))\n",
      "print \"\\n\"\n",
      "\n",
      "fig, axs = plt.subplots(1, 2, figsize=(14,5))\n",
      "countVal(withReplace, percent=True).plot(kind=\"bar\", ax=axs[0], ylim=(0,0.5))\n",
      "axs[0].set_title(\"PMF # of red balls draws (With replacement)\", fontsize=14, fontweight=\"bold\")\n",
      "axs[0].set_ylabel(\"Normalized Freq.\", fontweight=\"bold\")\n",
      "axs[0].set_xlabel(\"# of red balls drawn (out of 5)\", fontweight=\"bold\")\n",
      "\n",
      "countVal(withoutReplace, percent=True).plot(kind=\"bar\", ax=axs[1], ylim=(0,0.5))\n",
      "axs[1].set_title(\"PMF # of red balls draws (Without replacement)\", fontsize=14, fontweight=\"bold\")\n",
      "axs[1].set_ylabel(\"Normalized Freq.\", fontweight=\"bold\")\n",
      "axs[1].set_xlabel(\"# of red balls drawn (out of 5)\", fontweight=\"bold\")\n",
      "\n"
     ],
     "language": "python",
     "metadata": {},
     "outputs": [
      {
       "output_type": "stream",
       "stream": "stdout",
       "text": [
        "## With REPLACEMENT\n",
        "Expected Red with replacement (avg. of 10,000 simulations) : 2.504100\n",
        "\n",
        "## Without REPLACEMENT\n",
        "Expected Red without replacement (avg. of 10,000 simulations): 2.499300\n",
        "\n",
        "\n"
       ]
      },
      {
       "metadata": {},
       "output_type": "pyout",
       "prompt_number": 3,
       "text": [
        "<matplotlib.text.Text at 0x110e7f750>"
       ]
      },
      {
       "metadata": {},
       "output_type": "display_data",
       "png": "[encoded data removed]",
       "text": [
        "<matplotlib.figure.Figure at 0x110d00550>"
       ]
      }
     ],
     "prompt_number": 3
    },
    {
     "cell_type": "markdown",
     "metadata": {},
     "source": [
      "<br>"
     ]
    },
    {
     "cell_type": "markdown",
     "metadata": {},
     "source": [
      "<h1 style=\"color:#F75D59;\"><i>Counter-intuitive conclusion ...</i></h1>\n",
      "\n",
      "<br>\n",
      "\n",
      "## REPLACEMENT\n",
      "- **Expected Red ( Simulated )**: 2.504100\n",
      "- Binomial Distribution (**_Independent Draws_**)\n",
      "- **Expected Red ( Theorectical )**: **n x p** = 5 * (5 / 10) = 2.50\n",
      "\n",
      "## NO REPLACEMENT\n",
      "- **Expected Red ( Simulated )**: 2.499300\n",
      "- Hypogeometric Distribution (**_Dependent Draws_**)\n",
      "- **Expected Red ( Theorectical )**: **n x K / N** = 5 * (5 / 10) = 2.50\n",
      "\n",
      "n = # Drawn\n",
      "\n",
      "K = Total # Red\n",
      "\n",
      "N = Total # (Red + Blue)\n",
      "\n"
     ]
    }
   ],
   "metadata": {}
  }
 ]
}