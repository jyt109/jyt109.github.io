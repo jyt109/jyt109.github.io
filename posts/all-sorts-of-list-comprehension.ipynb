{
 "metadata": {
  "name": "",
  "signature": "sha256:560e98c3af811f0ed76eba8fa47ffd4cd3db011186140da1b1789ac1f85b1af7"
 },
 "nbformat": 3,
 "nbformat_minor": 0,
 "worksheets": [
  {
   "cells": [
    {
     "cell_type": "markdown",
     "metadata": {},
     "source": [
      "![](list_comp.png)\n",
      "\n",
      "<b>Wanna <span style=\"color:red\">not</span> write 3 lines of code every time you loop through a list ??</b>\n",
      "\n",
      "<br>\n",
      "\n",
      "There are few ways to do so, namely **List Comprehenison**, **Map( )** and **Lambda( )**. \n",
      "\n",
      "<br>\n",
      "\n",
      "Here we are gonna cover **when and how** to use these functions ...\n",
      "\n",
      "<!-- TEASER_END -->\n",
      "\n",
      "<br>"
     ]
    },
    {
     "cell_type": "markdown",
     "metadata": {},
     "source": [
      "###List comprehension"
     ]
    },
    {
     "cell_type": "markdown",
     "metadata": {},
     "source": [
      "<br>\n",
      "**Writing a for loop in one line**"
     ]
    },
    {
     "cell_type": "code",
     "collapsed": false,
     "input": [
      "[i**2 for i in range(3)]"
     ],
     "language": "python",
     "metadata": {},
     "outputs": [
      {
       "metadata": {},
       "output_type": "pyout",
       "prompt_number": 1,
       "text": [
        "[0, 1, 4]"
       ]
      }
     ],
     "prompt_number": 1
    },
    {
     "cell_type": "markdown",
     "metadata": {},
     "source": [
      "<br>\n",
      "\n",
      "**With conditions**"
     ]
    },
    {
     "cell_type": "code",
     "collapsed": false,
     "input": [
      "[\"odd\" if i**2 % 2 == 1 else \"even\" for i in range(3) ]"
     ],
     "language": "python",
     "metadata": {},
     "outputs": [
      {
       "metadata": {},
       "output_type": "pyout",
       "prompt_number": 5,
       "text": [
        "['even', 'odd', 'even']"
       ]
      }
     ],
     "prompt_number": 5
    },
    {
     "cell_type": "code",
     "collapsed": false,
     "input": [
      "[\"zero-sq\" if i**2 == 0 else \"one-sq\" if i**2 == 1 else \"two-sq\" for i in range(3) ]"
     ],
     "language": "python",
     "metadata": {},
     "outputs": [
      {
       "metadata": {},
       "output_type": "pyout",
       "prompt_number": 11,
       "text": [
        "['zero-sq', 'one-sq', 'two-sq']"
       ]
      }
     ],
     "prompt_number": 11
    },
    {
     "cell_type": "code",
     "collapsed": false,
     "input": [
      "[\"odd\" for i in range(3) if i**2 % 2 == 1]"
     ],
     "language": "python",
     "metadata": {},
     "outputs": [
      {
       "metadata": {},
       "output_type": "pyout",
       "prompt_number": 7,
       "text": [
        "['odd']"
       ]
      }
     ],
     "prompt_number": 7
    },
    {
     "cell_type": "markdown",
     "metadata": {},
     "source": [
      "<br>\n",
      "\n",
      "\n",
      "**More than 1 loop** "
     ]
    },
    {
     "cell_type": "code",
     "collapsed": false,
     "input": [
      "ll = [[1,2],[3,4]]\n",
      "\n",
      "print [item + 1 for l in ll for item in l ]\n",
      "\n",
      "print [item + 1 if item % 2 else item + 2 for l in ll for item in l ]"
     ],
     "language": "python",
     "metadata": {},
     "outputs": [
      {
       "output_type": "stream",
       "stream": "stdout",
       "text": [
        "[2, 3, 4, 5]\n",
        "[2, 4, 4, 6]\n"
       ]
      }
     ],
     "prompt_number": 15
    },
    {
     "cell_type": "markdown",
     "metadata": {},
     "source": [
      "<br>\n",
      "\n",
      "\n",
      "<span style=\"color:grey; font-size:1.5em\"><b>Bonus</b></span>  ** : Create sublists within a list using list comprehension**"
     ]
    },
    {
     "cell_type": "code",
     "collapsed": false,
     "input": [
      "l = range(20)\n",
      "[l[i : i + 3] for i in range(0, len(l), 3)]"
     ],
     "language": "python",
     "metadata": {},
     "outputs": [
      {
       "metadata": {},
       "output_type": "pyout",
       "prompt_number": 70,
       "text": [
        "[[0, 1, 2],\n",
        " [3, 4, 5],\n",
        " [6, 7, 8],\n",
        " [9, 10, 11],\n",
        " [12, 13, 14],\n",
        " [15, 16, 17],\n",
        " [18, 19]]"
       ]
      }
     ],
     "prompt_number": 70
    },
    {
     "cell_type": "markdown",
     "metadata": {},
     "source": [
      "<br>\n",
      "\n",
      "###Map( )\n",
      "<br>\n",
      "Achieves the _**same result as list comprehension**_ by mapping a function to every item in a list\n",
      "\n",
      "<span style=\"color:red\"><b>Faster</b></span> than **list comprehension** for **built-in Python functions**, such as **str** and **int** \n",
      "\n",
      "<span style=\"color:blue\"><b>Slower</b></span> than **list comprehension** for **self-defined functions**\n",
      "\n",
      "<br>\n"
     ]
    },
    {
     "cell_type": "code",
     "collapsed": false,
     "input": [
      "test_list = list(range(30))"
     ],
     "language": "python",
     "metadata": {},
     "outputs": [],
     "prompt_number": 21
    },
    {
     "cell_type": "code",
     "collapsed": false,
     "input": [
      "## MAP\n",
      "%%timeit -n 1000 \n",
      "map(str, test_list)"
     ],
     "language": "python",
     "metadata": {},
     "outputs": [
      {
       "output_type": "stream",
       "stream": "stdout",
       "text": [
        "1000 loops, best of 3: 5.88 \u00b5s per loop\n"
       ]
      }
     ],
     "prompt_number": 48
    },
    {
     "cell_type": "code",
     "collapsed": false,
     "input": [
      "## LIST COMPREHENSION\n",
      "%%timeit -n 1000 \n",
      "[str(i) for i in test_list]"
     ],
     "language": "python",
     "metadata": {},
     "outputs": [
      {
       "output_type": "stream",
       "stream": "stdout",
       "text": [
        "1000 loops, best of 3: 11.6 \u00b5s per loop\n"
       ]
      }
     ],
     "prompt_number": 46
    },
    {
     "cell_type": "markdown",
     "metadata": {},
     "source": [
      "**Map( )** is <span style=\"color:red\"><b>faster</b></span> here _**(Built-in function loops)**_:\n",
      "\n",
      "**5.88 \u00b5s < 11.6 \u00b5s**  per loop\n",
      "\n",
      "<br>"
     ]
    },
    {
     "cell_type": "code",
     "collapsed": false,
     "input": [
      "## MAP\n",
      "%%timeit -n 1000\n",
      "map(lambda i: i**2, test_list)"
     ],
     "language": "python",
     "metadata": {},
     "outputs": [
      {
       "output_type": "stream",
       "stream": "stdout",
       "text": [
        "1000 loops, best of 3: 9.5 \u00b5s per loop\n"
       ]
      }
     ],
     "prompt_number": 54
    },
    {
     "cell_type": "code",
     "collapsed": false,
     "input": [
      "## LIST COMPREHENSION\n",
      "%%timeit -n 1000 \n",
      "[i**2 for i in test_list]"
     ],
     "language": "python",
     "metadata": {},
     "outputs": [
      {
       "output_type": "stream",
       "stream": "stdout",
       "text": [
        "1000 loops, best of 3: 4.34 \u00b5s per loop\n"
       ]
      }
     ],
     "prompt_number": 55
    },
    {
     "cell_type": "markdown",
     "metadata": {},
     "source": [
      "**Map( )** is <span style=\"color:blue\"><b>slower</b></span> here _**(Self-defined function loops)**_: \n",
      "\n",
      "**9.5 \u00b5s > 4.34 \u00b5s** per loop\n",
      "\n",
      "<br>"
     ]
    },
    {
     "cell_type": "markdown",
     "metadata": {},
     "source": [
      "###Lambda\n",
      "<br>\n",
      "A shortcut to define a function in one line. (As seen above)\n",
      "\n",
      "\n",
      "We _**don't often use lambda with list objects**_, since we **have list comprehension**.\n",
      "\n",
      "<br>\n",
      "\n",
      "\n",
      "_**Lambda**_ is very handy when it comes to looping through Pandas objects (**DataFrame** and **Series**).\n",
      "\n",
      "\n",
      "The associated functions for looping through **DataFrame** and **Series** are **_apply( )_**, **_applymap( )_**, and **_map( )_**.\n",
      "\n",
      "<br>\n",
      "\n",
      "###Apply( ) &nbsp;<span style=\"color: grey\"><i>For Pandas DataFrame</i></span>\n",
      "<br>\n",
      "**For executing function for each _Columns / Rows_** "
     ]
    },
    {
     "cell_type": "code",
     "collapsed": false,
     "input": [
      "import pandas as pd"
     ],
     "language": "python",
     "metadata": {},
     "outputs": [],
     "prompt_number": 1
    },
    {
     "cell_type": "code",
     "collapsed": false,
     "input": [
      "## Defining a DataFrame\n",
      "df = pd.DataFrame([[1,2],[3,4]], columns=[\"col_1\",\"col_2\"], index=[\"row_1\",\"row_2\"])\n",
      "df"
     ],
     "language": "python",
     "metadata": {},
     "outputs": [
      {
       "html": [
        "<div style=\"max-height:1000px;max-width:1500px;overflow:auto;\">\n",
        "<table border=\"1\" class=\"dataframe\">\n",
        "  <thead>\n",
        "    <tr style=\"text-align: right;\">\n",
        "      <th></th>\n",
        "      <th>col_1</th>\n",
        "      <th>col_2</th>\n",
        "    </tr>\n",
        "  </thead>\n",
        "  <tbody>\n",
        "    <tr>\n",
        "      <th>row_1</th>\n",
        "      <td> 1</td>\n",
        "      <td> 2</td>\n",
        "    </tr>\n",
        "    <tr>\n",
        "      <th>row_2</th>\n",
        "      <td> 3</td>\n",
        "      <td> 4</td>\n",
        "    </tr>\n",
        "  </tbody>\n",
        "</table>\n",
        "<p>2 rows \u00d7 2 columns</p>\n",
        "</div>"
       ],
       "metadata": {},
       "output_type": "pyout",
       "prompt_number": 3,
       "text": [
        "       col_1  col_2\n",
        "row_1      1      2\n",
        "row_2      3      4\n",
        "\n",
        "[2 rows x 2 columns]"
       ]
      }
     ],
     "prompt_number": 3
    },
    {
     "cell_type": "code",
     "collapsed": false,
     "input": [
      "## Difference between max and min of column\n",
      "print \"\\nMax - Min for each column:\\n\"\n",
      "print df.apply(lambda x: x.max() - x.min(), axis=0) #column operation\n",
      "\n",
      "## Difference between max and min of row\n",
      "print \"\\nMax - Min for each row:\\n\"\n",
      "print df.apply(lambda x: x.max() - x.min(), axis=1) #row operation"
     ],
     "language": "python",
     "metadata": {},
     "outputs": [
      {
       "output_type": "stream",
       "stream": "stdout",
       "text": [
        "\n",
        "Max - Min for each column:\n",
        "\n",
        "col_1    2\n",
        "col_2    2\n",
        "dtype: int64\n",
        "\n",
        "Max - Min for each row:\n",
        "\n",
        "row_1    1\n",
        "row_2    1\n",
        "dtype: int64\n"
       ]
      }
     ],
     "prompt_number": 4
    },
    {
     "cell_type": "markdown",
     "metadata": {},
     "source": [
      "<br>\n",
      "\n",
      "###Applymap( ) &nbsp;<span style=\"color: grey\"><i>For Pandas DataFrame</i></span>\n",
      "<br>\n",
      "For executing functions for **each of the cells** in the **DataFrame**"
     ]
    },
    {
     "cell_type": "code",
     "collapsed": false,
     "input": [
      "df.applymap(lambda x: x + 1)"
     ],
     "language": "python",
     "metadata": {},
     "outputs": [
      {
       "html": [
        "<div style=\"max-height:1000px;max-width:1500px;overflow:auto;\">\n",
        "<table border=\"1\" class=\"dataframe\">\n",
        "  <thead>\n",
        "    <tr style=\"text-align: right;\">\n",
        "      <th></th>\n",
        "      <th>col_1</th>\n",
        "      <th>col_2</th>\n",
        "    </tr>\n",
        "  </thead>\n",
        "  <tbody>\n",
        "    <tr>\n",
        "      <th>row_1</th>\n",
        "      <td> 2</td>\n",
        "      <td> 3</td>\n",
        "    </tr>\n",
        "    <tr>\n",
        "      <th>row_2</th>\n",
        "      <td> 4</td>\n",
        "      <td> 5</td>\n",
        "    </tr>\n",
        "  </tbody>\n",
        "</table>\n",
        "<p>2 rows \u00d7 2 columns</p>\n",
        "</div>"
       ],
       "metadata": {},
       "output_type": "pyout",
       "prompt_number": 97,
       "text": [
        "       col_1  col_2\n",
        "row_1      2      3\n",
        "row_2      4      5\n",
        "\n",
        "[2 rows x 2 columns]"
       ]
      }
     ],
     "prompt_number": 97
    },
    {
     "cell_type": "markdown",
     "metadata": {},
     "source": [
      "For **_simple functions_**, we can do this:"
     ]
    },
    {
     "cell_type": "code",
     "collapsed": false,
     "input": [
      "df + 1"
     ],
     "language": "python",
     "metadata": {},
     "outputs": [
      {
       "html": [
        "<div style=\"max-height:1000px;max-width:1500px;overflow:auto;\">\n",
        "<table border=\"1\" class=\"dataframe\">\n",
        "  <thead>\n",
        "    <tr style=\"text-align: right;\">\n",
        "      <th></th>\n",
        "      <th>col_1</th>\n",
        "      <th>col_2</th>\n",
        "    </tr>\n",
        "  </thead>\n",
        "  <tbody>\n",
        "    <tr>\n",
        "      <th>row_1</th>\n",
        "      <td> 2</td>\n",
        "      <td> 3</td>\n",
        "    </tr>\n",
        "    <tr>\n",
        "      <th>row_2</th>\n",
        "      <td> 4</td>\n",
        "      <td> 5</td>\n",
        "    </tr>\n",
        "  </tbody>\n",
        "</table>\n",
        "<p>2 rows \u00d7 2 columns</p>\n",
        "</div>"
       ],
       "metadata": {},
       "output_type": "pyout",
       "prompt_number": 98,
       "text": [
        "       col_1  col_2\n",
        "row_1      2      3\n",
        "row_2      4      5\n",
        "\n",
        "[2 rows x 2 columns]"
       ]
      }
     ],
     "prompt_number": 98
    },
    {
     "cell_type": "markdown",
     "metadata": {},
     "source": [
      "<br>\n",
      "For more **_complex function_**, **lambda** is needed"
     ]
    },
    {
     "cell_type": "code",
     "collapsed": false,
     "input": [
      "df.applymap(lambda x: x + 1 if x % 2 else x)"
     ],
     "language": "python",
     "metadata": {},
     "outputs": [
      {
       "html": [
        "<div style=\"max-height:1000px;max-width:1500px;overflow:auto;\">\n",
        "<table border=\"1\" class=\"dataframe\">\n",
        "  <thead>\n",
        "    <tr style=\"text-align: right;\">\n",
        "      <th></th>\n",
        "      <th>col_1</th>\n",
        "      <th>col_2</th>\n",
        "    </tr>\n",
        "  </thead>\n",
        "  <tbody>\n",
        "    <tr>\n",
        "      <th>row_1</th>\n",
        "      <td> 2</td>\n",
        "      <td> 2</td>\n",
        "    </tr>\n",
        "    <tr>\n",
        "      <th>row_2</th>\n",
        "      <td> 4</td>\n",
        "      <td> 4</td>\n",
        "    </tr>\n",
        "  </tbody>\n",
        "</table>\n",
        "<p>2 rows \u00d7 2 columns</p>\n",
        "</div>"
       ],
       "metadata": {},
       "output_type": "pyout",
       "prompt_number": 106,
       "text": [
        "       col_1  col_2\n",
        "row_1      2      2\n",
        "row_2      4      4\n",
        "\n",
        "[2 rows x 2 columns]"
       ]
      }
     ],
     "prompt_number": 106
    },
    {
     "cell_type": "code",
     "collapsed": false,
     "input": [
      "df.applymap(lambda x: x + 1 if x % 2 else x + 2)"
     ],
     "language": "python",
     "metadata": {},
     "outputs": [
      {
       "html": [
        "<div style=\"max-height:1000px;max-width:1500px;overflow:auto;\">\n",
        "<table border=\"1\" class=\"dataframe\">\n",
        "  <thead>\n",
        "    <tr style=\"text-align: right;\">\n",
        "      <th></th>\n",
        "      <th>col_1</th>\n",
        "      <th>col_2</th>\n",
        "    </tr>\n",
        "  </thead>\n",
        "  <tbody>\n",
        "    <tr>\n",
        "      <th>row_1</th>\n",
        "      <td> 2</td>\n",
        "      <td> 4</td>\n",
        "    </tr>\n",
        "    <tr>\n",
        "      <th>row_2</th>\n",
        "      <td> 4</td>\n",
        "      <td> 6</td>\n",
        "    </tr>\n",
        "  </tbody>\n",
        "</table>\n",
        "<p>2 rows \u00d7 2 columns</p>\n",
        "</div>"
       ],
       "metadata": {},
       "output_type": "pyout",
       "prompt_number": 107,
       "text": [
        "       col_1  col_2\n",
        "row_1      2      4\n",
        "row_2      4      6\n",
        "\n",
        "[2 rows x 2 columns]"
       ]
      }
     ],
     "prompt_number": 107
    },
    {
     "cell_type": "markdown",
     "metadata": {},
     "source": [
      "<br>\n",
      "\n",
      "###Map( ) &nbsp;<span style=\"color: grey\"><i>For Pandas Series</i></span>\n",
      "\n",
      "<br>\n",
      "**Works same as _map( )_ for list**.\n",
      "\n",
      "**Pandas Series** has **_no list comprehension_**, so we use **_map( )_**.\n",
      "\n",
      "**Pandas Series** has cool features that are not available for **list**, and is more suited for some data types, e.g. **Time Series data**.\n",
      "\n",
      "Again, for **_simpler functions_**, **Pandas Series** allows things like **_\"Series + 1\"_** to add 1 to every item in the series.\n"
     ]
    },
    {
     "cell_type": "code",
     "collapsed": false,
     "input": [
      "s = pd.Series([1,2,3,4])\n",
      "print s.map(lambda x: x + 1)\n",
      "\n",
      "print \"\\n\\n\"\n",
      "\n",
      "print s + 1"
     ],
     "language": "python",
     "metadata": {},
     "outputs": [
      {
       "output_type": "stream",
       "stream": "stdout",
       "text": [
        "0    2\n",
        "1    3\n",
        "2    4\n",
        "3    5\n",
        "dtype: int64\n",
        "\n",
        "\n",
        "\n",
        "0    2\n",
        "1    3\n",
        "2    4\n",
        "3    5\n",
        "dtype: int64\n"
       ]
      }
     ],
     "prompt_number": 112
    }
   ],
   "metadata": {}
  }
 ]
}