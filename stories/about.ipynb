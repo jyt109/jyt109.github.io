{
 "metadata": {
  "name": "",
  "signature": "sha256:076d00a0f4e960a97fe0d4faa40467b21046d7224c8f794e8e62464f21823eba"
 },
 "nbformat": 3,
 "nbformat_minor": 0,
 "worksheets": [
  {
   "cells": [
    {
     "cell_type": "markdown",
     "metadata": {},
     "source": [
      "![](edoc.png)\n",
      "\n",
      "<br>\n"
     ]
    },
    {
     "cell_type": "markdown",
     "metadata": {},
     "source": [
      "Greetings! My name is Jeffrey Tang.\n",
      "\n",
      "I hold  a <span style=\"font-family:'Courier';\"><b>Biochemistry(BSc)</b></span> and <span style=\"font-family:'Courier';\"><b>Bioinformatics(MSc)</b></span> from <span style=\"font-family:'Courier';\"><b>Imperial College London</b></span>.\n",
      "\n",
      "I worked at a start-up called <a href=\"http://www.simplifydigital.co.uk/\" style=\"text-decoration:  none; font-weight: bold;\">SimplifyDigital</a> building <b>web-scrapers</b> and <b>database-updating </b> tools.\n",
      "\n",
      "<br>\n",
      "\n",
      "I am now in **San Francisco** attending the <a href=\"http://www.zipfianacademy.com\" style=\"text-decoration:none;\"><span style=\"font-weight: bold; color:#1f849e\">Zipfian Academy</span></a> <b>2014 Fall Cohort &nbsp;&nbsp;&nbsp;(Until early December 2014)</b>.\n",
      "\n",
      "I hope to explore the breath and depth of data science beyond the context of biology.\n",
      "\n",
      "My main interests are building <b>Regression Models</b> & finding new ways to understand <b>Network Structure</b>.\n",
      "\n",
      " \n",
      "<br>\n",
      "\n",
      "<span style=\"font-weight: bold; font-family: xkcd\">EDOC</span> has <b>one</b> theme.\n",
      "\n",
      "And that is to explain technical topics as simply as possible.\n",
      "\n",
      "This helps me re-understand the material quickly if I need to, and I hope serve you well too ...\n",
      "\n",
      "\n",
      "<br>\n",
      "\n",
      "There are, broadly speaking, <b>3 topics</b> <span style=\"font-weight: bold; font-family: xkcd\">EDOC</span> covers.\n",
      "\n",
      "They are <a href=\"http://jyt109.github.io/categories/statistics.html\" style=\"text-decoration:none; font-weight:bold\"> Statistics</a>, <a href=\"http://jyt109.github.io/categories/probability.html\" style=\"text-decoration:none; font-weight:bold\">Probability</a>, and <a href=\"http://jyt109.github.io/categories/programming.html\" style=\"text-decoration:none; font-weight:bold\">(IPython) Programming</a>.\n",
      "\n",
      "Occasionally, there will be posts covering some projects I am working on (and of course other random stuff)\n",
      "\n",
      "<br>\n",
      "\n",
      "\n",
      "If there is some wrong, please comment in the respective post.\n",
      "\n",
      "I will respond as promptly as possible.\n",
      "\n",
      "If there is something you want me to cover, please <a href=\"mailto:jeffrey.tang09@gmail.com\" style=\"text-decoration:none;\"><b>email</b></a> me or comment in the post below.\n",
      "\n",
      "<br>\n",
      "<br>"
     ]
    }
   ],
   "metadata": {}
  }
 ]
}